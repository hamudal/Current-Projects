{
 "cells": [
  {
   "cell_type": "code",
   "execution_count": 1,
   "metadata": {},
   "outputs": [
    {
     "name": "stderr",
     "output_type": "stream",
     "text": [
      "c:\\Users\\hamud\\OneDrive\\Dokumente\\GitHub\\Current-Projects\\Project_DeepFake_Voice_Clone\\voice_cloning_env\\lib\\site-packages\\pydub\\utils.py:170: RuntimeWarning: Couldn't find ffmpeg or avconv - defaulting to ffmpeg, but may not work\n",
      "  warn(\"Couldn't find ffmpeg or avconv - defaulting to ffmpeg, but may not work\", RuntimeWarning)\n"
     ]
    }
   ],
   "source": [
    "from pydub import AudioSegment\n",
    "import os\n",
    "\n",
    "# Load the audio file\n",
    "audio_file = AudioSegment.from_wav(\"Sett_CL.wav\")\n",
    "\n",
    "# Define the segment length in milliseconds\n",
    "segment_length_ms = 10000\n",
    "\n",
    "# Split the audio file into segments\n",
    "segments = []\n",
    "for i in range(0, len(audio_file), segment_length_ms):\n",
    "    segment = audio_file[i:i+segment_length_ms]\n",
    "    segments.append(segment)\n",
    "\n",
    "# Save the segments to individual files\n",
    "output_dir = \"output_segments\"\n",
    "if not os.path.exists(output_dir):\n",
    "    os.mkdir(output_dir)\n",
    "\n",
    "for i, segment in enumerate(segments):\n",
    "    segment.export(os.path.join(output_dir, f\"segment_{i}.wav\"), format=\"wav\")\n"
   ]
  }
 ],
 "metadata": {
  "kernelspec": {
   "display_name": "voice_cloning_env",
   "language": "python",
   "name": "python3"
  },
  "language_info": {
   "codemirror_mode": {
    "name": "ipython",
    "version": 3
   },
   "file_extension": ".py",
   "mimetype": "text/x-python",
   "name": "python",
   "nbconvert_exporter": "python",
   "pygments_lexer": "ipython3",
   "version": "3.10.9"
  },
  "orig_nbformat": 4
 },
 "nbformat": 4,
 "nbformat_minor": 2
}
