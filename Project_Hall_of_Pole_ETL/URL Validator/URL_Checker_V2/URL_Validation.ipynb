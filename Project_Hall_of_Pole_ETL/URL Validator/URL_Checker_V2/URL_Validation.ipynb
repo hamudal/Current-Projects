{
 "cells": [
  {
   "cell_type": "code",
   "execution_count": null,
   "metadata": {},
   "outputs": [],
   "source": [
    "import pandas as pd\n",
    "import requests\n",
    "from bs4 import BeautifulSoup\n",
    "\n",
    "import re"
   ]
  },
  {
   "cell_type": "code",
   "execution_count": null,
   "metadata": {},
   "outputs": [],
   "source": [
    "all_cities_ger_df = pd.read_csv('all_pole_studios_germany_cl.csv')\n",
    "all_cities_ger_df"
   ]
  },
  {
   "cell_type": "code",
   "execution_count": null,
   "metadata": {},
   "outputs": [],
   "source": [
    "url_list = all_cities_ger_df[\"Studio Workshop Url: SW\"].tolist()"
   ]
  },
  {
   "cell_type": "code",
   "execution_count": null,
   "metadata": {},
   "outputs": [],
   "source": [
    "def is_url_valid(url):\n",
    "    try:\n",
    "        response = requests.get(url)\n",
    "        if response.status_code == 200:\n",
    "            return True\n",
    "        else:\n",
    "            return False\n",
    "    except requests.exceptions.RequestException as e:\n",
    "        print(f\"Error while checking URL: {url}\\nError: {e}\")\n",
    "        return False\n"
   ]
  },
  {
   "cell_type": "code",
   "execution_count": null,
   "metadata": {},
   "outputs": [],
   "source": [
    "valid_urls = []\n",
    "\n",
    "for index, url in enumerate(url_list):\n",
    "    print(f\"Processing URL {index + 1}/{len(url_list)}: {url}\")\n",
    "    if is_url_valid(url):\n",
    "        valid_urls.append(url)\n",
    "        print(f\"URL {url} is valid.\")\n",
    "    else:\n",
    "        print(f\"URL {url} is not valid.\")\n",
    "    print(\"\\n\")\n"
   ]
  },
  {
   "cell_type": "code",
   "execution_count": null,
   "metadata": {},
   "outputs": [],
   "source": [
    "valid_urls_df = pd.DataFrame(valid_urls, columns=[\"Valid_URL\"])\n",
    "\n",
    "# assuming the URL column is named 'URL'\n",
    "# valid_urls_df = valid_urls_df.drop_duplicates(subset=['Valid_URL'])\n",
    "valid_urls_df"
   ]
  },
  {
   "cell_type": "code",
   "execution_count": null,
   "metadata": {},
   "outputs": [],
   "source": [
    "# valid_urls_df.to_csv(\"valid_urls_ger.csv\", index=False)\n"
   ]
  }
 ],
 "metadata": {
  "language_info": {
   "name": "python"
  },
  "orig_nbformat": 4
 },
 "nbformat": 4,
 "nbformat_minor": 2
}
