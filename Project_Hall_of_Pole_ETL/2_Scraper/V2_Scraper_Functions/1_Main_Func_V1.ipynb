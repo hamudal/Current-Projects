{
 "cells": [
  {
   "cell_type": "code",
   "execution_count": 11,
   "metadata": {},
   "outputs": [],
   "source": [
    "from PoleStudio_Overview_Func import pole_overview\n",
    "from Workshops_List_Func import workshop_list\n",
    "from Workshop_Overview_Func import workshop_overview\n",
    "from CallPy_V2 import super_function\n",
    "\n",
    "import pandas as pd"
   ]
  },
  {
   "cell_type": "code",
   "execution_count": 12,
   "metadata": {},
   "outputs": [
    {
     "data": {
      "text/html": [
       "<div>\n",
       "<style scoped>\n",
       "    .dataframe tbody tr th:only-of-type {\n",
       "        vertical-align: middle;\n",
       "    }\n",
       "\n",
       "    .dataframe tbody tr th {\n",
       "        vertical-align: top;\n",
       "    }\n",
       "\n",
       "    .dataframe thead th {\n",
       "        text-align: right;\n",
       "    }\n",
       "</style>\n",
       "<table border=\"1\" class=\"dataframe\">\n",
       "  <thead>\n",
       "    <tr style=\"text-align: right;\">\n",
       "      <th></th>\n",
       "      <th>Valid_URL</th>\n",
       "    </tr>\n",
       "  </thead>\n",
       "  <tbody>\n",
       "    <tr>\n",
       "      <th>0</th>\n",
       "      <td>https://www.eversports.de/s/janine-hollung</td>\n",
       "    </tr>\n",
       "    <tr>\n",
       "      <th>1</th>\n",
       "      <td>https://www.eversports.de/s/pure-body-concepts-1</td>\n",
       "    </tr>\n",
       "    <tr>\n",
       "      <th>2</th>\n",
       "      <td>https://www.eversports.de/s/annis-pole-dance-u...</td>\n",
       "    </tr>\n",
       "  </tbody>\n",
       "</table>\n",
       "</div>"
      ],
      "text/plain": [
       "                                           Valid_URL\n",
       "0         https://www.eversports.de/s/janine-hollung\n",
       "1   https://www.eversports.de/s/pure-body-concepts-1\n",
       "2  https://www.eversports.de/s/annis-pole-dance-u..."
      ]
     },
     "execution_count": 12,
     "metadata": {},
     "output_type": "execute_result"
    }
   ],
   "source": [
    "valid_urls = pd.read_csv(\"valid_eversports_urls_didi.csv\")\n",
    "valid_urls[:3]"
   ]
  },
  {
   "cell_type": "code",
   "execution_count": 13,
   "metadata": {},
   "outputs": [
    {
     "data": {
      "text/plain": [
       "0           https://www.eversports.de/s/janine-hollung\n",
       "1     https://www.eversports.de/s/pure-body-concepts-1\n",
       "2    https://www.eversports.de/s/annis-pole-dance-u...\n",
       "Name: Valid_URL, dtype: object"
      ]
     },
     "execution_count": 13,
     "metadata": {},
     "output_type": "execute_result"
    }
   ],
   "source": [
    "valid_urls[\"Valid_URL\"][:3]"
   ]
  },
  {
   "cell_type": "code",
   "execution_count": 14,
   "metadata": {},
   "outputs": [],
   "source": [
    "# import re\n",
    "\n",
    "# pattern = r\"(https:[^\\\"\\']+)\"\n",
    "\n",
    "# valid_urls[\"Eversports\"] = valid_urls[\"Eversports\"].astype(str).apply(lambda x: re.findall(pattern, x)).to_list()\n",
    "# valid_urls.drop_duplicates(subset=[\"Eversports\"], inplace=True)\n"
   ]
  },
  {
   "cell_type": "code",
   "execution_count": 15,
   "metadata": {},
   "outputs": [
    {
     "data": {
      "text/plain": [
       "0             https://www.eversports.de/s/janine-hollung\n",
       "1       https://www.eversports.de/s/pure-body-concepts-1\n",
       "2      https://www.eversports.de/s/annis-pole-dance-u...\n",
       "3                    https://www.eversports.ch/s/spin-up\n",
       "4            https://www.eversports.de/s/polefly-academy\n",
       "                             ...                        \n",
       "111    https://www.eversports.de/sw/vertical-pole-aer...\n",
       "112    https://www.eversports.nl/sw/aerial-studio-arnhem\n",
       "113    https://www.eversports.de/sw/yoga-and-pole-art...\n",
       "114    https://www.eversports.be/sk/dunya-pole-dance-...\n",
       "115          https://www.eversports.de/s/pole-acrobatics\n",
       "Name: Valid_URL, Length: 116, dtype: object"
      ]
     },
     "execution_count": 15,
     "metadata": {},
     "output_type": "execute_result"
    }
   ],
   "source": [
    "valid_urls[\"Valid_URL\"]"
   ]
  },
  {
   "cell_type": "code",
   "execution_count": 16,
   "metadata": {},
   "outputs": [],
   "source": [
    "# valid_urls[\"Eversports\"].rename(\"URL\").to_csv(\"eversports_urls_1.csv\", index=False)\n"
   ]
  },
  {
   "cell_type": "code",
   "execution_count": 17,
   "metadata": {},
   "outputs": [
    {
     "data": {
      "text/plain": [
       "10"
      ]
     },
     "execution_count": 17,
     "metadata": {},
     "output_type": "execute_result"
    }
   ],
   "source": [
    "\n",
    "\n",
    "user_input = valid_urls\n",
    "\n",
    "url_list = user_input[\"Valid_URL\"][:10].to_list()\n",
    "len(url_list)"
   ]
  },
  {
   "cell_type": "code",
   "execution_count": 18,
   "metadata": {},
   "outputs": [],
   "source": [
    "# Example URLs :https://www.eversports.de/sw/poda-studio, https://www.eversports.de/sw/schoenheitstanz-studio\n",
    "\n",
    "# Get user input for a list of URLs\n",
    "# user_input = input(\"Enter URLs separated by commas: \")"
   ]
  },
  {
   "cell_type": "code",
   "execution_count": 19,
   "metadata": {},
   "outputs": [
    {
     "ename": "AttributeError",
     "evalue": "'NoneType' object has no attribute 'text'",
     "output_type": "error",
     "traceback": [
      "\u001b[1;31m---------------------------------------------------------------------------\u001b[0m",
      "\u001b[1;31mAttributeError\u001b[0m                            Traceback (most recent call last)",
      "Cell \u001b[1;32mIn[19], line 5\u001b[0m\n\u001b[0;32m      1\u001b[0m \u001b[39m# Split the input string into a list of URLs\u001b[39;00m\n\u001b[0;32m      2\u001b[0m \u001b[39m# url_list = [url.strip() for url in user_input.split(',')]\u001b[39;00m\n\u001b[0;32m      3\u001b[0m \n\u001b[0;32m      4\u001b[0m \u001b[39m# Call the super_function with the list of URLs\u001b[39;00m\n\u001b[1;32m----> 5\u001b[0m workshops_df, workshops_overview_df, polestudios_overview_df \u001b[39m=\u001b[39m super_function(url_list)\n\u001b[0;32m      7\u001b[0m \u001b[39m# Display the DataFrames\u001b[39;00m\n\u001b[0;32m      8\u001b[0m \u001b[39mprint\u001b[39m(workshops_df)\n",
      "File \u001b[1;32mc:\\Users\\hamud\\OneDrive\\Dokumente\\GitHub\\Current-Projects\\Project_Hall_of_Pole_ETL\\2_Scraper\\V2_Scraper_Functions\\CallPy_V2.py:16\u001b[0m, in \u001b[0;36msuper_function\u001b[1;34m(urls)\u001b[0m\n\u001b[0;32m     13\u001b[0m workshop_list_dfs \u001b[39m=\u001b[39m []\n\u001b[0;32m     15\u001b[0m \u001b[39mfor\u001b[39;00m url \u001b[39min\u001b[39;00m url_list:\n\u001b[1;32m---> 16\u001b[0m     workshop_list_df \u001b[39m=\u001b[39m workshop_list(url)\n\u001b[0;32m     17\u001b[0m     workshop_list_dfs\u001b[39m.\u001b[39mappend(workshop_list_df)\n\u001b[0;32m     19\u001b[0m \u001b[39m# Concatenate all workshop_list_dfs into one DataFrame\u001b[39;00m\n",
      "File \u001b[1;32mc:\\Users\\hamud\\OneDrive\\Dokumente\\GitHub\\Current-Projects\\Project_Hall_of_Pole_ETL\\2_Scraper\\V2_Scraper_Functions\\Workshops_List_Func_V2.py:34\u001b[0m, in \u001b[0;36mworkshop_list\u001b[1;34m(url)\u001b[0m\n\u001b[0;32m     31\u001b[0m soup \u001b[39m=\u001b[39m BeautifulSoup(response\u001b[39m.\u001b[39mcontent, \u001b[39m'\u001b[39m\u001b[39mhtml.parser\u001b[39m\u001b[39m'\u001b[39m)\n\u001b[0;32m     33\u001b[0m \u001b[39m# Extract the name of the pole studio\u001b[39;00m\n\u001b[1;32m---> 34\u001b[0m polestudio_name \u001b[39m=\u001b[39m soup\u001b[39m.\u001b[39;49mfind(\u001b[39m'\u001b[39;49m\u001b[39mh1\u001b[39;49m\u001b[39m'\u001b[39;49m)\u001b[39m.\u001b[39;49mtext\u001b[39m.\u001b[39msplit(\u001b[39m\"\u001b[39m\u001b[39m \u001b[39m\u001b[39m\"\u001b[39m)[\u001b[39m0\u001b[39m]\n\u001b[0;32m     36\u001b[0m \u001b[39m# Extract all workshop containers\u001b[39;00m\n\u001b[0;32m     37\u001b[0m workshop_containers \u001b[39m=\u001b[39m soup\u001b[39m.\u001b[39mfind_all(\u001b[39m'\u001b[39m\u001b[39mdiv\u001b[39m\u001b[39m'\u001b[39m, class_\u001b[39m=\u001b[39m\u001b[39m\"\u001b[39m\u001b[39mdiscover-results marketplace-tile-container\u001b[39m\u001b[39m\"\u001b[39m)\n",
      "\u001b[1;31mAttributeError\u001b[0m: 'NoneType' object has no attribute 'text'"
     ]
    }
   ],
   "source": [
    "# Split the input string into a list of URLs\n",
    "# url_list = [url.strip() for url in user_input.split(',')]\n",
    "\n",
    "# Call the super_function with the list of URLs\n",
    "workshops_df, workshops_overview_df, polestudios_overview_df = super_function(url_list)\n",
    "\n",
    "# Display the DataFrames\n",
    "print(workshops_df)\n",
    "print(workshops_overview_df)\n",
    "print(polestudios_overview_df)\n"
   ]
  },
  {
   "cell_type": "code",
   "execution_count": null,
   "metadata": {},
   "outputs": [],
   "source": [
    "workshops_df\n"
   ]
  },
  {
   "cell_type": "code",
   "execution_count": null,
   "metadata": {},
   "outputs": [],
   "source": [
    "workshops_overview_df\n"
   ]
  },
  {
   "cell_type": "code",
   "execution_count": null,
   "metadata": {},
   "outputs": [],
   "source": [
    "polestudios_overview_df"
   ]
  },
  {
   "cell_type": "code",
   "execution_count": null,
   "metadata": {},
   "outputs": [],
   "source": []
  },
  {
   "cell_type": "code",
   "execution_count": null,
   "metadata": {},
   "outputs": [],
   "source": [
    "def super_function(urls):\n",
    "    \"\"\"\n",
    "    Returns three pandas DataFrames with the results of scraping Eversports websites:\n",
    "    1. A DataFrame with the details of all workshops.\n",
    "    2. A DataFrame with the details of all workshops overview.\n",
    "    3. A DataFrame with the details of all pole studios overview.\n",
    "\n",
    "    Args:\n",
    "        urls (list): A list of Eversports URLs to scrape.\n",
    "\n",
    "    Returns:\n",
    "        tuple: A tuple containing the three DataFrames.\n",
    "    \"\"\"\n",
    "\n",
    "    # Create empty lists to store the DataFrames for each URL\n",
    "    workshop_list_dfs = []\n",
    "    workshops_overview_dfs = []\n",
    "    polestudios_overview_dfs = []\n",
    "\n",
    "    for url in urls:\n",
    "        print(f\"Processing URL: {url}\")\n",
    "\n",
    "        # Get the workshop list DataFrame for this URL\n",
    "        workshop_list_df = workshop_list(url)\n",
    "\n",
    "        # If the workshop list DataFrame is empty, print an error message and skip to the next URL\n",
    "        if workshop_list_df.empty:\n",
    "            print(f\"No workshop list found for URL: {url}\")\n",
    "            continue\n",
    "\n",
    "        # Get the workshops overview DataFrame for this URL\n",
    "        workshops_overview_df = workshops_overview(url)\n",
    "\n",
    "        # If the workshops overview DataFrame is empty, print an error message and skip to the next URL\n",
    "        if workshops_overview_df.empty:\n",
    "            print(f\"No workshops overview found for URL: {url}\")\n",
    "            continue\n",
    "\n",
    "        # Get the pole studios overview DataFrame for this URL\n",
    "        polestudios_overview_df = polestudios_overview(url)\n",
    "\n",
    "        # If the pole studios overview DataFrame is empty, print an error message and skip to the next URL\n",
    "        if polestudios_overview_df.empty:\n",
    "            print(f\"No pole studios overview found for URL: {url}\")\n",
    "            continue\n",
    "\n",
    "        # Append the DataFrames for this URL to their respective lists\n",
    "        workshop_list_dfs.append(workshop_list_df)\n",
    "        workshops_overview_dfs.append(workshops_overview_df)\n",
    "        polestudios_overview_dfs.append(polestudios_overview_df)\n",
    "\n",
    "    # Concatenate all workshop_list_dfs into one DataFrame\n",
    "    workshops_df = pd.concat(workshop_list_dfs, ignore_index=True)\n",
    "\n",
    "    # Concatenate all workshops_overview_dfs into one DataFrame\n",
    "    workshops_overview_df = pd.concat(workshops_overview_dfs, ignore_index=True)\n",
    "\n",
    "    # Concatenate all polestudios_overview_dfs into one DataFrame\n",
    "    polestudios_overview_df = pd.concat(polestudios_overview_dfs, ignore_index=True)\n",
    "\n",
    "    return workshops_df, workshops_overview_df, polestudios_overview_df\n"
   ]
  }
 ],
 "metadata": {
  "kernelspec": {
   "display_name": "base",
   "language": "python",
   "name": "python3"
  },
  "language_info": {
   "codemirror_mode": {
    "name": "ipython",
    "version": 3
   },
   "file_extension": ".py",
   "mimetype": "text/x-python",
   "name": "python",
   "nbconvert_exporter": "python",
   "pygments_lexer": "ipython3",
   "version": "3.10.9"
  },
  "orig_nbformat": 4
 },
 "nbformat": 4,
 "nbformat_minor": 2
}
