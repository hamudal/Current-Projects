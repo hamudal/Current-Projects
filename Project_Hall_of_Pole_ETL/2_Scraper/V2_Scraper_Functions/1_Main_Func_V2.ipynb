{
 "cells": [
  {
   "cell_type": "code",
   "execution_count": 3,
   "metadata": {},
   "outputs": [
    {
     "ename": "ImportError",
     "evalue": "cannot import name 'pole_overview' from 'PoleStudio_Overview_Func_V2' (c:\\Users\\hamud\\OneDrive\\Dokumente\\GitHub\\Current-Projects\\Project_Hall_of_Pole_ETL\\2_Scraper\\V2_Scraper_Functions\\PoleStudio_Overview_Func_V2.py)",
     "output_type": "error",
     "traceback": [
      "\u001b[1;31m---------------------------------------------------------------------------\u001b[0m",
      "\u001b[1;31mImportError\u001b[0m                               Traceback (most recent call last)",
      "Cell \u001b[1;32mIn[3], line 1\u001b[0m\n\u001b[1;32m----> 1\u001b[0m \u001b[39mfrom\u001b[39;00m \u001b[39mPoleStudio_Overview_Func_V2\u001b[39;00m \u001b[39mimport\u001b[39;00m pole_overview\n\u001b[0;32m      2\u001b[0m \u001b[39mfrom\u001b[39;00m \u001b[39mWorkshops_List_Func_V2\u001b[39;00m \u001b[39mimport\u001b[39;00m workshop_list\n\u001b[0;32m      3\u001b[0m \u001b[39mfrom\u001b[39;00m \u001b[39mWorkshop_Overview_Func\u001b[39;00m \u001b[39mimport\u001b[39;00m workshop_overview\n",
      "\u001b[1;31mImportError\u001b[0m: cannot import name 'pole_overview' from 'PoleStudio_Overview_Func_V2' (c:\\Users\\hamud\\OneDrive\\Dokumente\\GitHub\\Current-Projects\\Project_Hall_of_Pole_ETL\\2_Scraper\\V2_Scraper_Functions\\PoleStudio_Overview_Func_V2.py)"
     ]
    }
   ],
   "source": [
    "from PoleStudio_Overview_Func_V2 import pole_overview\n",
    "from Workshops_List_Func_V2 import workshop_list\n",
    "from Workshop_Overview_Func import workshop_overview\n",
    "from CallPy_V2 import super_function\n",
    "import pandas as pd\n",
    "\n",
    "# Read in the CSV file with valid URLs\n",
    "valid_urls = pd.read_csv(\"valid_eversports_urls_didi.csv\")\n",
    "\n",
    "# Get a list of valid URLs\n",
    "url_list = valid_urls[\"Valid_URL\"][:10].tolist()\n",
    "\n",
    "# Call the super_function with the list of URLs\n",
    "workshops_df, workshops_overview_df, polestudios_overview_df = super_function(url_list)\n",
    "\n",
    "# Display the DataFrames\n",
    "print(workshops_df)\n",
    "print(workshops_overview_df)\n",
    "print(polestudios_overview_df)\n"
   ]
  },
  {
   "cell_type": "code",
   "execution_count": null,
   "metadata": {},
   "outputs": [],
   "source": []
  },
  {
   "cell_type": "code",
   "execution_count": null,
   "metadata": {},
   "outputs": [],
   "source": [
    "def super_function(url_list):\n",
    "    \"\"\"\n",
    "    Returns three pandas DataFrames containing details of workshops, workshop overviews and pole studios.\n",
    "\n",
    "    Args:\n",
    "        url_list (list): A list of Eversports URLs to scrape.\n",
    "\n",
    "    Returns:\n",
    "        tuple: A tuple of three pandas DataFrames:\n",
    "            - DataFrame with details of workshops\n",
    "            - DataFrame with workshop overviews\n",
    "            - DataFrame with pole studio overviews\n",
    "    \"\"\"\n",
    "    workshop_list_dfs = []\n",
    "    workshop_overview_dfs = []\n",
    "    polestudio_overview_dfs = []\n",
    "\n",
    "    for url in url_list:\n",
    "        print(f\"Processing URL: {url}\")\n",
    "\n",
    "        # Call the pole_overview() function\n",
    "        polestudio_overview_df = pole_overview(url)\n",
    "\n",
    "        # If the DataFrame is not empty, append it to polestudio_overview_dfs\n",
    "        if not polestudio_overview_df.empty:\n",
    "            polestudio_overview_dfs.append(polestudio_overview_df)\n",
    "\n",
    "            # Call the workshop_list() function\n",
    "            workshop_list_df = workshop_list(url)\n",
    "\n",
    "            # If the DataFrame is not empty, append it to workshop_list_dfs\n",
    "            if not workshop_list_df.empty:\n",
    "                workshop_list_dfs.append(workshop_list_df)\n",
    "\n",
    "                # Call the workshop_overview() function\n",
    "                workshop_overview_df = workshop_overview(workshop_list_df)\n",
    "\n",
    "                # If the DataFrame is not empty, append it to workshop_overview_dfs\n",
    "                if not workshop_overview_df.empty:\n",
    "                    workshop_overview_dfs.append(workshop_overview_df)\n",
    "\n",
    "        print()  # Add a blank line for readability\n",
    "\n",
    "    # Concatenate all workshop_list_dfs into one DataFrame\n",
    "    workshops_df = pd.concat(workshop_list_dfs, ignore_index=True)\n",
    "\n",
    "    # Concatenate all workshop_overview_dfs into one DataFrame\n",
    "    workshops_overview_df = pd.concat(workshop_overview_dfs, ignore_index=True)\n",
    "\n",
    "    # Concatenate all polestudio_overview_dfs into one DataFrame\n",
    "    polestudios_overview_df = pd.concat(polestudio_overview_dfs, ignore_index=True)\n",
    "\n",
    "    return workshops_df, workshops_overview_df, polestudios_overview_df\n"
   ]
  }
 ],
 "metadata": {
  "kernelspec": {
   "display_name": "base",
   "language": "python",
   "name": "python3"
  },
  "language_info": {
   "codemirror_mode": {
    "name": "ipython",
    "version": 3
   },
   "file_extension": ".py",
   "mimetype": "text/x-python",
   "name": "python",
   "nbconvert_exporter": "python",
   "pygments_lexer": "ipython3",
   "version": "3.10.9"
  },
  "orig_nbformat": 4
 },
 "nbformat": 4,
 "nbformat_minor": 2
}
