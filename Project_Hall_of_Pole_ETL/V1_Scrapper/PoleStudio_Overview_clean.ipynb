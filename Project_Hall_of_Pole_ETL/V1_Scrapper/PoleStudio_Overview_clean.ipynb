{
 "cells": [
  {
   "cell_type": "code",
   "execution_count": 103,
   "metadata": {},
   "outputs": [],
   "source": [
    "import os\n",
    "import requests\n",
    "from bs4 import BeautifulSoup\n",
    "import pandas as pd\n",
    "\n",
    "from datetime import datetime\n",
    "from sqlalchemy import create_engine\n",
    "from sqlalchemy import text\n"
   ]
  },
  {
   "cell_type": "code",
   "execution_count": 104,
   "metadata": {},
   "outputs": [],
   "source": [
    "# Example URLs\n",
    "\n",
    "url = \"https://www.eversports.de/s/poda-studio\"\n",
    "\n",
    "# \"https://www.eversports.de/s/yoga-and-pole-art-by-selina\"\n",
    "# https://www.eversports.de/s/schoenheitstanz-studio"
   ]
  },
  {
   "cell_type": "code",
   "execution_count": 105,
   "metadata": {},
   "outputs": [],
   "source": [
    "# Send a GET request to the webpage\n",
    "\n",
    "response = requests.get(url)\n",
    "\n",
    "# Parse the HTML content of the webpage\n",
    "soup = BeautifulSoup(response.content, 'html.parser')"
   ]
  },
  {
   "attachments": {},
   "cell_type": "markdown",
   "metadata": {},
   "source": [
    "Container Segment 1 | Pole Studio Name, "
   ]
  },
  {
   "cell_type": "code",
   "execution_count": 106,
   "metadata": {},
   "outputs": [],
   "source": [
    "# Container Overview\n",
    "overview_description = soup.find_all('div', class_=\"css-ptk251\")\n"
   ]
  },
  {
   "cell_type": "code",
   "execution_count": 107,
   "metadata": {},
   "outputs": [
    {
     "name": "stdout",
     "output_type": "stream",
     "text": [
      "Yoga and Pole Art by Selina\n",
      "Zum Wingert 10 , 53783 Eitorf\n"
     ]
    }
   ],
   "source": [
    "# Loop through each element in the container\n",
    "for item in overview_description:\n",
    "    # Pole Studio Name\n",
    "    pole_studio_name = item.find('p', class_='MuiTypography-root MuiTypography-body1 css-1yc2rip').text\n",
    "    print(pole_studio_name)\n",
    "\n",
    "    # Address\n",
    "    location = item.find('p', class_=\"MuiTypography-root MuiTypography-body1 css-e8od91\").text\n",
    "    print(location)\n"
   ]
  },
  {
   "attachments": {},
   "cell_type": "markdown",
   "metadata": {},
   "source": [
    "Container Segment 2 Description"
   ]
  },
  {
   "cell_type": "code",
   "execution_count": 108,
   "metadata": {},
   "outputs": [],
   "source": [
    "# Container Description Pole Studio\n",
    "description = soup.find_all('div', class_=\"css-1821gv5\")\n"
   ]
  },
  {
   "cell_type": "code",
   "execution_count": 109,
   "metadata": {},
   "outputs": [
    {
     "name": "stdout",
     "output_type": "stream",
     "text": [
      "Yoga and Pole Art by Selina bietet dir Online Live Klassen (inkl. 24h Aufzeichnungen), Intensivkurse, Workshops und Personal Training in folgenden Bereichen an:\n",
      "· Hatha Yoga\n",
      "· Vinyasa Yoga\n",
      "· Yoga Rad (auch bekannt als Yoga Wheel) für Einsteiger und Fortgeschrittene\n",
      "· Aerial Yoga\n",
      "· Pole Trick Training\n",
      "· Spinning Pole Combos Einsteiger\n",
      "· Spinning Pole Combos Intermediate\n",
      "· Splits on Pole Intermediate\n",
      "· Flexi Pole Tricks\n",
      "· Krafttraining und Trainingsperiodisierung\n",
      "· Krafttraining an der Stange\n",
      "Zudem bietet dir Yoga and Pole Art by Selina zahlreiche Aufzeichnungen und Video Kurse im Pole Sport und Yoga Bereich.\n"
     ]
    }
   ],
   "source": [
    "# Loop through each element in the container\n",
    "for item in description:\n",
    "    # Pole Describtion Name\n",
    "    pole_studio_description = item.find('p', class_='MuiTypography-root MuiTypography-body1 css-pxnkv9').text\n",
    "    print(pole_studio_description)\n",
    "    if pole_studio_description.strip():\n",
    "        pole_studio_description = pole_studio_description.strip()\n",
    "        break"
   ]
  },
  {
   "attachments": {},
   "cell_type": "markdown",
   "metadata": {},
   "source": [
    "Container Segment 3 Prices"
   ]
  },
  {
   "cell_type": "code",
   "execution_count": 110,
   "metadata": {},
   "outputs": [],
   "source": [
    "# Container Prices\n",
    "starting_price_ = soup.find_all('div', class_=\"css-1vt08d7\")\n",
    "list_5 = soup.find_all('div', class_=\"css-sge262\")"
   ]
  },
  {
   "cell_type": "code",
   "execution_count": 111,
   "metadata": {},
   "outputs": [
    {
     "name": "stdout",
     "output_type": "stream",
     "text": [
      "24,00 €\n",
      "24,00 €\n"
     ]
    }
   ],
   "source": [
    "# Loop through each element in the container\n",
    "for item in starting_price_:\n",
    "    # Starting Price\n",
    "    starting_price = item.find('p', class_='MuiTypography-root MuiTypography-body1 css-13ps6ou').text\n",
    "    print(starting_price)\n",
    "\n",
    "    # Taster Course Price\n",
    "    taster_course_price = item.find('p', class_=\"MuiTypography-root MuiTypography-body1 css-13ps6ou\").text\n",
    "    print(taster_course_price)\n"
   ]
  },
  {
   "attachments": {},
   "cell_type": "markdown",
   "metadata": {},
   "source": [
    "Segment 5 Rating"
   ]
  },
  {
   "cell_type": "code",
   "execution_count": 112,
   "metadata": {},
   "outputs": [],
   "source": [
    "div_container = soup.find('div', class_='css-1oqii6')\n",
    "div_container.find_all('p')\n",
    "p_elements = div_container.find_all('p')"
   ]
  },
  {
   "cell_type": "code",
   "execution_count": 113,
   "metadata": {},
   "outputs": [
    {
     "data": {
      "text/plain": [
       "['Raumqualität 5.0',\n",
       " 'Freundlichkeit & Service 5.0',\n",
       " 'Sauberkeit 5.0',\n",
       " 'Atmosphäre 5.0',\n",
       " 'Preis-Leistung 4.9']"
      ]
     },
     "execution_count": 113,
     "metadata": {},
     "output_type": "execute_result"
    }
   ],
   "source": [
    "# Find the container for the rating information\n",
    "rating_container = soup.find('div', class_='css-1oqii6')\n",
    "ratingscore = div_container.find_all('p')[0].text\n",
    "ratingcount = div_container.find_all('p')[1].text\n",
    "# \n",
    "ratingfactors = [div_container.find_all('p')[2].text + ' ' + div_container.find_all('p')[3].text,\n",
    "                 div_container.find_all('p')[4].text + ' ' + div_container.find_all('p')[5].text,\n",
    "                 div_container.find_all('p')[6].text + ' ' + div_container.find_all('p')[7].text,\n",
    "                 div_container.find_all('p')[8].text + ' ' + div_container.find_all('p')[9].text,\n",
    "                 div_container.find_all('p')[10].text + ' ' + div_container.find_all('p')[11].text\n",
    "                ]\n",
    "ratingfactors"
   ]
  },
  {
   "attachments": {},
   "cell_type": "markdown",
   "metadata": {},
   "source": [
    "Contact Info: Homepage, Telephone, E-Mail"
   ]
  },
  {
   "cell_type": "code",
   "execution_count": 114,
   "metadata": {},
   "outputs": [],
   "source": [
    "pole_info=(soup.find_all('div', class_='css-1x2phcg'))"
   ]
  },
  {
   "cell_type": "code",
   "execution_count": 115,
   "metadata": {},
   "outputs": [
    {
     "data": {
      "text/html": [
       "<div>\n",
       "<style scoped>\n",
       "    .dataframe tbody tr th:only-of-type {\n",
       "        vertical-align: middle;\n",
       "    }\n",
       "\n",
       "    .dataframe tbody tr th {\n",
       "        vertical-align: top;\n",
       "    }\n",
       "\n",
       "    .dataframe thead th {\n",
       "        text-align: right;\n",
       "    }\n",
       "</style>\n",
       "<table border=\"1\" class=\"dataframe\">\n",
       "  <thead>\n",
       "    <tr style=\"text-align: right;\">\n",
       "      <th></th>\n",
       "      <th>E-Mail</th>\n",
       "      <th>Homepage</th>\n",
       "      <th>Telefon</th>\n",
       "    </tr>\n",
       "  </thead>\n",
       "  <tbody>\n",
       "    <tr>\n",
       "      <th>0</th>\n",
       "      <td>yogaandpoleartbyselina@gmail.com</td>\n",
       "      <td>http://www.yogaandpoleartbyselina.com</td>\n",
       "      <td>+49 15738925807</td>\n",
       "    </tr>\n",
       "  </tbody>\n",
       "</table>\n",
       "</div>"
      ],
      "text/plain": [
       "                              E-Mail                               Homepage   \n",
       "0   yogaandpoleartbyselina@gmail.com  http://www.yogaandpoleartbyselina.com  \\\n",
       "\n",
       "           Telefon  \n",
       "0  +49 15738925807  "
      ]
     },
     "execution_count": 115,
     "metadata": {},
     "output_type": "execute_result"
    }
   ],
   "source": [
    "contact_info = []\n",
    "for div in pole_info:\n",
    "    a_tags = div.find_all('a')\n",
    "    contact_row = []\n",
    "    for a in a_tags:\n",
    "        href = a.get('href')\n",
    "        if 'mailto:' in href:\n",
    "            email = href.replace('mailto:', '')\n",
    "            contact_row.append(email)\n",
    "        elif 'http' in href:\n",
    "            homepage = href\n",
    "            contact_row.append(homepage)\n",
    "        else:\n",
    "            phone = href.replace('tel:', '')\n",
    "            contact_row.append(phone)\n",
    "    contact_info.append(contact_row)\n",
    "\n",
    "contact_df = pd.DataFrame(contact_info, columns=[\"E-Mail\", \"Homepage\", \"Telefon\"])\n",
    "contact_df\n"
   ]
  },
  {
   "attachments": {},
   "cell_type": "markdown",
   "metadata": {},
   "source": [
    "Prepare Strings "
   ]
  },
  {
   "cell_type": "code",
   "execution_count": 116,
   "metadata": {},
   "outputs": [
    {
     "name": "stdout",
     "output_type": "stream",
     "text": [
      "Zum Wingert 10 , 53783 Eitorf  53783 Eitorf Zum Wingert 10  53783\n"
     ]
    }
   ],
   "source": [
    "location.split(',')\n",
    "address = location.split(',')[1]\n",
    "town = location.split(',')[0]\n",
    "plz = location.split(',')[1].split(' ')[1]\n",
    "print(location,address,town,plz)"
   ]
  },
  {
   "attachments": {},
   "cell_type": "markdown",
   "metadata": {},
   "source": [
    "Create Dataframe for the data"
   ]
  },
  {
   "cell_type": "code",
   "execution_count": 117,
   "metadata": {},
   "outputs": [
    {
     "data": {
      "text/html": [
       "<div>\n",
       "<style scoped>\n",
       "    .dataframe tbody tr th:only-of-type {\n",
       "        vertical-align: middle;\n",
       "    }\n",
       "\n",
       "    .dataframe tbody tr th {\n",
       "        vertical-align: top;\n",
       "    }\n",
       "\n",
       "    .dataframe thead th {\n",
       "        text-align: right;\n",
       "    }\n",
       "</style>\n",
       "<table border=\"1\" class=\"dataframe\">\n",
       "  <thead>\n",
       "    <tr style=\"text-align: right;\">\n",
       "      <th></th>\n",
       "      <th>PoleStudio</th>\n",
       "      <th>PLZ</th>\n",
       "      <th>Stadt</th>\n",
       "      <th>Adresse</th>\n",
       "      <th>Pole Studio Beschreibung</th>\n",
       "      <th>Start Preis</th>\n",
       "      <th>Schnupperkurspreis</th>\n",
       "      <th>Ratingscore</th>\n",
       "      <th>Reviewanzahl</th>\n",
       "      <th>Rating Faktoren</th>\n",
       "      <th>E-Mail</th>\n",
       "      <th>Homepage</th>\n",
       "      <th>Telefon</th>\n",
       "      <th>Eversports Pole Studio Seite</th>\n",
       "      <th>Version</th>\n",
       "    </tr>\n",
       "  </thead>\n",
       "  <tbody>\n",
       "    <tr>\n",
       "      <th>0</th>\n",
       "      <td>Yoga and Pole Art by Selina</td>\n",
       "      <td>53783</td>\n",
       "      <td>Zum Wingert 10</td>\n",
       "      <td>53783 Eitorf</td>\n",
       "      <td>Yoga and Pole Art by Selina bietet dir Online ...</td>\n",
       "      <td>24,00 €</td>\n",
       "      <td>24,00 €</td>\n",
       "      <td>5.0</td>\n",
       "      <td>49 Rezensionen</td>\n",
       "      <td>[Raumqualität 5.0, Freundlichkeit &amp; Service 5....</td>\n",
       "      <td>yogaandpoleartbyselina@gmail.com</td>\n",
       "      <td>http://www.yogaandpoleartbyselina.com</td>\n",
       "      <td>+49 15738925807</td>\n",
       "      <td>https://www.eversports.de/s/yoga-and-pole-art-...</td>\n",
       "      <td>2023-04-18 00:08:34</td>\n",
       "    </tr>\n",
       "  </tbody>\n",
       "</table>\n",
       "</div>"
      ],
      "text/plain": [
       "                    PoleStudio    PLZ            Stadt        Adresse   \n",
       "0  Yoga and Pole Art by Selina  53783  Zum Wingert 10    53783 Eitorf  \\\n",
       "\n",
       "                            Pole Studio Beschreibung Start Preis   \n",
       "0  Yoga and Pole Art by Selina bietet dir Online ...     24,00 €  \\\n",
       "\n",
       "  Schnupperkurspreis Ratingscore    Reviewanzahl   \n",
       "0            24,00 €         5.0  49 Rezensionen  \\\n",
       "\n",
       "                                     Rating Faktoren   \n",
       "0  [Raumqualität 5.0, Freundlichkeit & Service 5....  \\\n",
       "\n",
       "                              E-Mail                               Homepage   \n",
       "0   yogaandpoleartbyselina@gmail.com  http://www.yogaandpoleartbyselina.com  \\\n",
       "\n",
       "           Telefon                       Eversports Pole Studio Seite   \n",
       "0  +49 15738925807  https://www.eversports.de/s/yoga-and-pole-art-...  \\\n",
       "\n",
       "               Version  \n",
       "0  2023-04-18 00:08:34  "
      ]
     },
     "execution_count": 117,
     "metadata": {},
     "output_type": "execute_result"
    }
   ],
   "source": [
    "# create a dictionary from the given lists\n",
    "pole_studio_overview = {\n",
    "    'PoleStudio': pole_studio_name,\n",
    "    'PLZ': plz,\n",
    "    'Stadt': town,\n",
    "    'Adresse': address,\n",
    "    'Pole Studio Beschreibung': pole_studio_description,\n",
    "    'Start Preis': starting_price,\n",
    "    'Schnupperkurspreis': taster_course_price,\n",
    "    'Ratingscore': ratingscore,\n",
    "    'Reviewanzahl': ratingcount,\n",
    "     'Rating Faktoren': [ratingfactors],\n",
    "    'E-Mail': contact_row[0],\n",
    "    'Homepage': contact_row[1],\n",
    "    'Telefon': contact_row[2],\n",
    "    'Eversports Pole Studio Seite': url\n",
    "\n",
    "}\n",
    "# create pandas dataframe\n",
    "pole_studio_overview_df = pd.DataFrame.from_dict(pole_studio_overview)\n",
    "\n",
    "# Make a datastamp\n",
    "pole_studio_overview_df['Version'] = datetime.now().strftime(\"%Y-%m-%d %H:%M:%S\")\n",
    "\n",
    "# display dataframe\n",
    "pole_studio_overview_df\n"
   ]
  },
  {
   "cell_type": "code",
   "execution_count": 118,
   "metadata": {},
   "outputs": [],
   "source": [
    "pole_studio_overview_df = pole_studio_overview_df.drop([\"Rating Faktoren\"], axis=1)\n",
    "# pole_studio_overview_df"
   ]
  },
  {
   "cell_type": "code",
   "execution_count": 119,
   "metadata": {},
   "outputs": [],
   "source": [
    "# pole_studio_overview_df.to_csv('pole_studio_overview.csv', index=False)\n",
    "\n",
    "# create the \"CSV\" directory if it does not exist\n",
    "# if not os.path.exists(\"PoleStudio_CSV\"):\n",
    "     # os.makedirs(\"PoleStudio_CSV\")\n",
    "\n",
    "# save the CSV file in the \"CSV\" directory\n",
    "pole_studio_overview_df.to_csv(f\"{pole_studio_name}.csv\", index=False)"
   ]
  },
  {
   "attachments": {},
   "cell_type": "markdown",
   "metadata": {},
   "source": [
    "Prepare a SQL Database for the Data"
   ]
  },
  {
   "cell_type": "code",
   "execution_count": 120,
   "metadata": {},
   "outputs": [],
   "source": [
    "# SQL Setup\n",
    "\n",
    "# host = 'Your information!'\n",
    "# schema = 'hallofpole'\n",
    "# user = 'Your information!'\n",
    "# password = 'Your information!'\n",
    "# port = Your information!\n",
    "\n",
    "# # create connection string with the database name included\n",
    "# con = f'mysql+pymysql://{user}:{password}@{host}:{port}/{schema}'\n",
    "\n",
    "# # create sqlalchemy engine\n",
    "# engine = create_engine(con)\n"
   ]
  },
  {
   "cell_type": "code",
   "execution_count": 121,
   "metadata": {},
   "outputs": [],
   "source": [
    "# # Write the DataFrame to the SQL database\n",
    "# pole_studio_overview_df.to_sql(name='pole_studio_overview', con=con, if_exists='replace', index=False)\n"
   ]
  },
  {
   "cell_type": "code",
   "execution_count": 122,
   "metadata": {},
   "outputs": [],
   "source": [
    "# #Read SQL and create a CSV\n",
    "\n",
    "# # create sqlalchemy engine\n",
    "# engine = create_engine(con)\n",
    "\n",
    "# # read table from SQL database into a DataFrame\n",
    "# pole_studio_overview_df = pd.read_sql_table('pole_studio_overview', con=engine)\n",
    "\n",
    "# # write DataFrame to CSV file\n",
    "# pole_studio_overview_df.to_csv('pole_studio_overview.csv', index=False)\n"
   ]
  },
  {
   "cell_type": "code",
   "execution_count": null,
   "metadata": {},
   "outputs": [],
   "source": []
  }
 ],
 "metadata": {
  "kernelspec": {
   "display_name": "base",
   "language": "python",
   "name": "python3"
  },
  "language_info": {
   "codemirror_mode": {
    "name": "ipython",
    "version": 3
   },
   "file_extension": ".py",
   "mimetype": "text/x-python",
   "name": "python",
   "nbconvert_exporter": "python",
   "pygments_lexer": "ipython3",
   "version": "3.10.9"
  },
  "orig_nbformat": 4
 },
 "nbformat": 4,
 "nbformat_minor": 2
}
