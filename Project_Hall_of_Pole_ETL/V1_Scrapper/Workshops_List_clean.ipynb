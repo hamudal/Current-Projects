{
 "cells": [
  {
   "cell_type": "code",
   "execution_count": 2,
   "metadata": {},
   "outputs": [],
   "source": [
    "import os\n",
    "import requests\n",
    "from bs4 import BeautifulSoup\n",
    "import pandas as pd\n",
    "\n",
    "import re\n",
    "from datetime import datetime\n",
    "from sqlalchemy import create_engine\n",
    "from sqlalchemy import text"
   ]
  },
  {
   "cell_type": "code",
   "execution_count": 3,
   "metadata": {},
   "outputs": [],
   "source": [
    "url = \"https://www.eversports.de/sw/poda-studio\"\n",
    "# 'https://www.eversports.de/sw/aerialflow'\n",
    "# 'https://www.eversports.de/s/yoga-and-pole-art-by-selina'\n",
    "# 'https://www.eversports.de/sw/schoenheitstanz-studio'\n",
    "# 'https://www.eversports.de/sw/poda-studio'"
   ]
  },
  {
   "cell_type": "code",
   "execution_count": 4,
   "metadata": {},
   "outputs": [
    {
     "data": {
      "text/plain": [
       "<Response [200]>"
      ]
     },
     "execution_count": 4,
     "metadata": {},
     "output_type": "execute_result"
    }
   ],
   "source": [
    "# Send a GET request to the webpage\n",
    "# url = 'https://www.eversports.de/sw/schoenheitstanz-studio'\n",
    "response = requests.get(url)\n",
    "\n",
    "# Parse the HTML content of the webpage\n",
    "soup = BeautifulSoup(response.content, 'html.parser')\n",
    "response"
   ]
  },
  {
   "attachments": {},
   "cell_type": "markdown",
   "metadata": {},
   "source": [
    "Container Segment 1 Dates"
   ]
  },
  {
   "cell_type": "code",
   "execution_count": 5,
   "metadata": {},
   "outputs": [],
   "source": [
    "# Container Workshops\n",
    "list_1 = soup.find_all('div', class_=\"discover-results marketplace-tile-container\")"
   ]
  },
  {
   "cell_type": "code",
   "execution_count": 6,
   "metadata": {},
   "outputs": [
    {
     "name": "stdout",
     "output_type": "stream",
     "text": [
      "Apr30Sonntag\n",
      "Mai07Sonntag\n",
      "Mai07Sonntag\n",
      "Mai07Sonntag\n",
      "Mai07Sonntag\n",
      "Mai14Sonntag\n",
      "Juni04Sonntag\n",
      "Juni10Samstag\n",
      "Juni10Samstag\n",
      "Juli02Sonntag\n",
      "Aug06Sonntag\n",
      "Sep03Sonntag\n",
      "Okt01Sonntag\n",
      "Nov05Sonntag\n",
      "Dez03Sonntag\n"
     ]
    }
   ],
   "source": [
    "# Assuming you have already fetched the HTML content and parsed it using BeautifulSoup\n",
    "list_1 = soup.find_all('div', class_='marketplace-tile__date')\n",
    "\n",
    "workshops_dates = []\n",
    "\n",
    "# Loop through each div element and extract its text content\n",
    "for item in list_1:\n",
    "    workshops_dates.append(item.text)\n",
    "    print(item.text)\n"
   ]
  },
  {
   "attachments": {},
   "cell_type": "markdown",
   "metadata": {},
   "source": [
    "Container Segment 2 Name"
   ]
  },
  {
   "cell_type": "code",
   "execution_count": 7,
   "metadata": {},
   "outputs": [
    {
     "data": {
      "text/plain": [
       "['Hip Hop Pole Workshop',\n",
       " 'Circus Kids Luftakrobatik Workshop',\n",
       " 'Pole Dance Probestunde *Poda Birthday Special* Free',\n",
       " 'Pole Fitness *Poda Birthday Special* Free',\n",
       " 'Twerk & Chair *Poda Birthday Special* Free',\n",
       " 'Hard Style Exotic Pole Workshop',\n",
       " 'Circus Kids Luftakrobatik Workshop',\n",
       " '*Fortsetzung folgt...* Lady Marmalade Chair Dance Workshop',\n",
       " '*Fortsetzung folgt...* Azzlack Stereotyp 2 - Exotic Pole Workshop',\n",
       " 'Circus Kids Luftakrobatik Workshop',\n",
       " 'Circus Kids Luftakrobatik Workshop',\n",
       " 'Circus Kids Luftakrobatik Workshop',\n",
       " 'Circus Kids Luftakrobatik Workshop',\n",
       " 'Circus Kids Luftakrobatik Workshop',\n",
       " 'Circus Kids Luftakrobatik Workshop']"
      ]
     },
     "execution_count": 7,
     "metadata": {},
     "output_type": "execute_result"
    }
   ],
   "source": [
    "# Create list of names of the workshops\n",
    "workshop_names = []\n",
    "\n",
    "workshops = soup.find_all('div', class_=\"discover-results marketplace-tile-container\")\n",
    "\n",
    "for item in workshops:\n",
    "    h4_tags = item.find_all('h4')\n",
    "    for tag in h4_tags:\n",
    "        workshop_names.append(tag.text)\n",
    "\n",
    "workshop_names"
   ]
  },
  {
   "cell_type": "code",
   "execution_count": 16,
   "metadata": {},
   "outputs": [
    {
     "data": {
      "text/plain": [
       "'poda'"
      ]
     },
     "execution_count": 16,
     "metadata": {},
     "output_type": "execute_result"
    }
   ],
   "source": [
    "name_soup= soup.find_all(\"div\", class_ = \"container discover-container\")\n",
    "name_soup\n",
    "\n",
    "for item in name_soup:\n",
    "    h1_tag = item.find_all(\"h1\")\n",
    "    for h1 in h1_tag:\n",
    "        polestudio_name = h1.text\n",
    "\n",
    "polestudio_name_cl = polestudio_name.split(\" \")[0]     \n",
    "polestudio_name_cl   "
   ]
  },
  {
   "attachments": {},
   "cell_type": "markdown",
   "metadata": {},
   "source": [
    "Container Segment 3 Price Workshops"
   ]
  },
  {
   "cell_type": "code",
   "execution_count": 9,
   "metadata": {},
   "outputs": [
    {
     "name": "stdout",
     "output_type": "stream",
     "text": [
      "['ab 35,00 €', 'ab 35,00 €', 'ab 0,00 €', 'ab 0,00 €', 'ab 0,00 €', 'ab 35,00 €', 'ab 35,00 €', 'ab 35,00 €', 'ab 35,00 €', 'ab 35,00 €', 'ab 35,00 €', 'ab 35,00 €', 'ab 35,00 €', 'ab 35,00 €', 'ab 35,00 €']\n"
     ]
    }
   ],
   "source": [
    "# Extract all div elements with class \"marketplace-tile__price\"\n",
    "price_elements = soup.find_all('div', class_='marketplace-tile__price')\n",
    "\n",
    "# Extract the text content of each price element\n",
    "workshop_prices = [price.text.strip() for price in price_elements]\n",
    "\n",
    "# Print the list of workshop prices\n",
    "print(workshop_prices)\n"
   ]
  },
  {
   "attachments": {},
   "cell_type": "markdown",
   "metadata": {},
   "source": [
    "Weblinks"
   ]
  },
  {
   "cell_type": "code",
   "execution_count": 10,
   "metadata": {},
   "outputs": [
    {
     "data": {
      "text/plain": [
       "['https://www.eversports.de/e/workshop/x31ysLeOS',\n",
       " 'https://www.eversports.de/e/workshop/x1w0Mq3Y7',\n",
       " 'https://www.eversports.de/e/workshop/xFwPArnAH',\n",
       " 'https://www.eversports.de/e/workshop/Sh6fqaIks',\n",
       " 'https://www.eversports.de/e/workshop/feME-_7tG',\n",
       " 'https://www.eversports.de/e/workshop/dCR2PVd05',\n",
       " 'https://www.eversports.de/e/workshop/nb8_WV2wH',\n",
       " 'https://www.eversports.de/e/workshop/cDPxswQQp',\n",
       " 'https://www.eversports.de/e/workshop/xo_EQbOQn',\n",
       " 'https://www.eversports.de/e/workshop/HGkpQ9uAJ',\n",
       " 'https://www.eversports.de/e/workshop/Bz5neTPTa',\n",
       " 'https://www.eversports.de/e/workshop/3zdELX6G_',\n",
       " 'https://www.eversports.de/e/workshop/tUZ-pbNF0',\n",
       " 'https://www.eversports.de/e/workshop/5u5RfrpDC',\n",
       " 'https://www.eversports.de/e/workshop/RPiNq9mm6']"
      ]
     },
     "execution_count": 10,
     "metadata": {},
     "output_type": "execute_result"
    }
   ],
   "source": [
    "# find all links inside the container and create a list\n",
    "\n",
    "links = [a['href'] for a in soup.find('div', class_='discover-results marketplace-tile-container').find_all('a')]\n",
    "\n",
    "workshop_page_eversports = []\n",
    "base_url = \"https://www.eversports.de\"\n",
    "\n",
    "workshop_page_eversports = [base_url + link for link in links]\n",
    "workshop_page_eversports\n"
   ]
  },
  {
   "cell_type": "code",
   "execution_count": 11,
   "metadata": {},
   "outputs": [
    {
     "data": {
      "text/html": [
       "<div>\n",
       "<style scoped>\n",
       "    .dataframe tbody tr th:only-of-type {\n",
       "        vertical-align: middle;\n",
       "    }\n",
       "\n",
       "    .dataframe tbody tr th {\n",
       "        vertical-align: top;\n",
       "    }\n",
       "\n",
       "    .dataframe thead th {\n",
       "        text-align: right;\n",
       "    }\n",
       "</style>\n",
       "<table border=\"1\" class=\"dataframe\">\n",
       "  <thead>\n",
       "    <tr style=\"text-align: right;\">\n",
       "      <th></th>\n",
       "      <th>Workshop Name</th>\n",
       "      <th>PoleStudio</th>\n",
       "      <th>Workshop Seite Eversports</th>\n",
       "      <th>Version</th>\n",
       "    </tr>\n",
       "  </thead>\n",
       "  <tbody>\n",
       "    <tr>\n",
       "      <th>0</th>\n",
       "      <td>Hip Hop Pole Workshop</td>\n",
       "      <td>poda</td>\n",
       "      <td>https://www.eversports.de/e/workshop/x31ysLeOS</td>\n",
       "      <td>2023-04-18 16:21:26</td>\n",
       "    </tr>\n",
       "    <tr>\n",
       "      <th>1</th>\n",
       "      <td>Circus Kids Luftakrobatik Workshop</td>\n",
       "      <td>poda</td>\n",
       "      <td>https://www.eversports.de/e/workshop/x1w0Mq3Y7</td>\n",
       "      <td>2023-04-18 16:21:26</td>\n",
       "    </tr>\n",
       "    <tr>\n",
       "      <th>2</th>\n",
       "      <td>Pole Dance Probestunde *Poda Birthday Special*...</td>\n",
       "      <td>poda</td>\n",
       "      <td>https://www.eversports.de/e/workshop/xFwPArnAH</td>\n",
       "      <td>2023-04-18 16:21:26</td>\n",
       "    </tr>\n",
       "    <tr>\n",
       "      <th>3</th>\n",
       "      <td>Pole Fitness *Poda Birthday Special* Free</td>\n",
       "      <td>poda</td>\n",
       "      <td>https://www.eversports.de/e/workshop/Sh6fqaIks</td>\n",
       "      <td>2023-04-18 16:21:26</td>\n",
       "    </tr>\n",
       "    <tr>\n",
       "      <th>4</th>\n",
       "      <td>Twerk &amp; Chair *Poda Birthday Special* Free</td>\n",
       "      <td>poda</td>\n",
       "      <td>https://www.eversports.de/e/workshop/feME-_7tG</td>\n",
       "      <td>2023-04-18 16:21:26</td>\n",
       "    </tr>\n",
       "    <tr>\n",
       "      <th>5</th>\n",
       "      <td>Hard Style Exotic Pole Workshop</td>\n",
       "      <td>poda</td>\n",
       "      <td>https://www.eversports.de/e/workshop/dCR2PVd05</td>\n",
       "      <td>2023-04-18 16:21:26</td>\n",
       "    </tr>\n",
       "    <tr>\n",
       "      <th>6</th>\n",
       "      <td>Circus Kids Luftakrobatik Workshop</td>\n",
       "      <td>poda</td>\n",
       "      <td>https://www.eversports.de/e/workshop/nb8_WV2wH</td>\n",
       "      <td>2023-04-18 16:21:26</td>\n",
       "    </tr>\n",
       "    <tr>\n",
       "      <th>7</th>\n",
       "      <td>*Fortsetzung folgt...* Lady Marmalade Chair Da...</td>\n",
       "      <td>poda</td>\n",
       "      <td>https://www.eversports.de/e/workshop/cDPxswQQp</td>\n",
       "      <td>2023-04-18 16:21:26</td>\n",
       "    </tr>\n",
       "    <tr>\n",
       "      <th>8</th>\n",
       "      <td>*Fortsetzung folgt...* Azzlack Stereotyp 2 - E...</td>\n",
       "      <td>poda</td>\n",
       "      <td>https://www.eversports.de/e/workshop/xo_EQbOQn</td>\n",
       "      <td>2023-04-18 16:21:26</td>\n",
       "    </tr>\n",
       "    <tr>\n",
       "      <th>9</th>\n",
       "      <td>Circus Kids Luftakrobatik Workshop</td>\n",
       "      <td>poda</td>\n",
       "      <td>https://www.eversports.de/e/workshop/HGkpQ9uAJ</td>\n",
       "      <td>2023-04-18 16:21:26</td>\n",
       "    </tr>\n",
       "    <tr>\n",
       "      <th>10</th>\n",
       "      <td>Circus Kids Luftakrobatik Workshop</td>\n",
       "      <td>poda</td>\n",
       "      <td>https://www.eversports.de/e/workshop/Bz5neTPTa</td>\n",
       "      <td>2023-04-18 16:21:26</td>\n",
       "    </tr>\n",
       "    <tr>\n",
       "      <th>11</th>\n",
       "      <td>Circus Kids Luftakrobatik Workshop</td>\n",
       "      <td>poda</td>\n",
       "      <td>https://www.eversports.de/e/workshop/3zdELX6G_</td>\n",
       "      <td>2023-04-18 16:21:26</td>\n",
       "    </tr>\n",
       "    <tr>\n",
       "      <th>12</th>\n",
       "      <td>Circus Kids Luftakrobatik Workshop</td>\n",
       "      <td>poda</td>\n",
       "      <td>https://www.eversports.de/e/workshop/tUZ-pbNF0</td>\n",
       "      <td>2023-04-18 16:21:26</td>\n",
       "    </tr>\n",
       "    <tr>\n",
       "      <th>13</th>\n",
       "      <td>Circus Kids Luftakrobatik Workshop</td>\n",
       "      <td>poda</td>\n",
       "      <td>https://www.eversports.de/e/workshop/5u5RfrpDC</td>\n",
       "      <td>2023-04-18 16:21:26</td>\n",
       "    </tr>\n",
       "    <tr>\n",
       "      <th>14</th>\n",
       "      <td>Circus Kids Luftakrobatik Workshop</td>\n",
       "      <td>poda</td>\n",
       "      <td>https://www.eversports.de/e/workshop/RPiNq9mm6</td>\n",
       "      <td>2023-04-18 16:21:26</td>\n",
       "    </tr>\n",
       "  </tbody>\n",
       "</table>\n",
       "</div>"
      ],
      "text/plain": [
       "                                        Workshop Name PoleStudio   \n",
       "0                               Hip Hop Pole Workshop       poda  \\\n",
       "1                  Circus Kids Luftakrobatik Workshop       poda   \n",
       "2   Pole Dance Probestunde *Poda Birthday Special*...       poda   \n",
       "3           Pole Fitness *Poda Birthday Special* Free       poda   \n",
       "4          Twerk & Chair *Poda Birthday Special* Free       poda   \n",
       "5                     Hard Style Exotic Pole Workshop       poda   \n",
       "6                  Circus Kids Luftakrobatik Workshop       poda   \n",
       "7   *Fortsetzung folgt...* Lady Marmalade Chair Da...       poda   \n",
       "8   *Fortsetzung folgt...* Azzlack Stereotyp 2 - E...       poda   \n",
       "9                  Circus Kids Luftakrobatik Workshop       poda   \n",
       "10                 Circus Kids Luftakrobatik Workshop       poda   \n",
       "11                 Circus Kids Luftakrobatik Workshop       poda   \n",
       "12                 Circus Kids Luftakrobatik Workshop       poda   \n",
       "13                 Circus Kids Luftakrobatik Workshop       poda   \n",
       "14                 Circus Kids Luftakrobatik Workshop       poda   \n",
       "\n",
       "                         Workshop Seite Eversports              Version  \n",
       "0   https://www.eversports.de/e/workshop/x31ysLeOS  2023-04-18 16:21:26  \n",
       "1   https://www.eversports.de/e/workshop/x1w0Mq3Y7  2023-04-18 16:21:26  \n",
       "2   https://www.eversports.de/e/workshop/xFwPArnAH  2023-04-18 16:21:26  \n",
       "3   https://www.eversports.de/e/workshop/Sh6fqaIks  2023-04-18 16:21:26  \n",
       "4   https://www.eversports.de/e/workshop/feME-_7tG  2023-04-18 16:21:26  \n",
       "5   https://www.eversports.de/e/workshop/dCR2PVd05  2023-04-18 16:21:26  \n",
       "6   https://www.eversports.de/e/workshop/nb8_WV2wH  2023-04-18 16:21:26  \n",
       "7   https://www.eversports.de/e/workshop/cDPxswQQp  2023-04-18 16:21:26  \n",
       "8   https://www.eversports.de/e/workshop/xo_EQbOQn  2023-04-18 16:21:26  \n",
       "9   https://www.eversports.de/e/workshop/HGkpQ9uAJ  2023-04-18 16:21:26  \n",
       "10  https://www.eversports.de/e/workshop/Bz5neTPTa  2023-04-18 16:21:26  \n",
       "11  https://www.eversports.de/e/workshop/3zdELX6G_  2023-04-18 16:21:26  \n",
       "12  https://www.eversports.de/e/workshop/tUZ-pbNF0  2023-04-18 16:21:26  \n",
       "13  https://www.eversports.de/e/workshop/5u5RfrpDC  2023-04-18 16:21:26  \n",
       "14  https://www.eversports.de/e/workshop/RPiNq9mm6  2023-04-18 16:21:26  "
      ]
     },
     "execution_count": 11,
     "metadata": {},
     "output_type": "execute_result"
    }
   ],
   "source": [
    "# create a dictionary from the given lists\n",
    "poleworkshop_list_df = {\n",
    "    'Workshop Name': workshop_names,\n",
    "    'PoleStudio': polestudio_name_cl,\n",
    "    # 'Workshop Datum': workshops_dates,\n",
    "    # 'Workshop Preis': workshop_prices,\n",
    "    'Workshop Seite Eversports': workshop_page_eversports,\n",
    "    \n",
    "}\n",
    "\n",
    "# create pandas dataframe\n",
    "poleworkshop_list_df = pd.DataFrame.from_dict(poleworkshop_list_df)\n",
    "\n",
    "# Add a new column to the DataFrame with the current date and time\n",
    "poleworkshop_list_df['Version'] = datetime.now().strftime(\"%Y-%m-%d %H:%M:%S\")\n",
    "\n",
    "# display dataframe\n",
    "poleworkshop_list_df"
   ]
  },
  {
   "cell_type": "code",
   "execution_count": 12,
   "metadata": {},
   "outputs": [],
   "source": [
    "# create the directory if it doesn't exist\n",
    "if not os.path.exists(\"Workshop_List_CSV\"):\n",
    "    os.makedirs(\"Workshop_List_CSV\")\n",
    "\n",
    "# save the CSV file in the \"CSV\" directory\n",
    "poleworkshop_list_df.to_csv(f\"Workshop_List_CSV/{polestudio_name_cl}.csv\", index=False)"
   ]
  },
  {
   "attachments": {},
   "cell_type": "markdown",
   "metadata": {},
   "source": [
    "SQL Database"
   ]
  },
  {
   "cell_type": "code",
   "execution_count": 13,
   "metadata": {},
   "outputs": [],
   "source": [
    "# SQL Setup\n",
    "\n",
    "# host = 'Your information!'\n",
    "# schema = 'hallofpole'\n",
    "# user = 'Your information!'\n",
    "# password = 'Your information!'\n",
    "# port = Your information!\n",
    "\n",
    "# # create connection string with the database name included\n",
    "# con = f'mysql+pymysql://{user}:{password}@{host}:{port}/{schema}'\n",
    "\n",
    "# # create sqlalchemy engine\n",
    "# engine = create_engine(con)"
   ]
  },
  {
   "cell_type": "code",
   "execution_count": 14,
   "metadata": {},
   "outputs": [],
   "source": [
    "# # Write the DataFrame to the SQL database\n",
    "# poleworkshop_list_df.to_sql(name='workshop_list', con=con, if_exists='replace', index=False)"
   ]
  },
  {
   "cell_type": "code",
   "execution_count": 15,
   "metadata": {},
   "outputs": [],
   "source": [
    "# #Read SQL and create a CSV\n",
    "\n",
    "# # create sqlalchemy engine\n",
    "# engine = create_engine(con)\n",
    "\n",
    "# # read table from SQL database into a DataFrame\n",
    "# poleworkshop_list_df = pd.read_sql_table('workshop_list', con=engine)\n",
    "\n",
    "# # write DataFrame to CSV file\n",
    "# poleworkshop_list_df.to_csv('workshop_list.csv', index=False)\n"
   ]
  }
 ],
 "metadata": {
  "kernelspec": {
   "display_name": "base",
   "language": "python",
   "name": "python3"
  },
  "language_info": {
   "codemirror_mode": {
    "name": "ipython",
    "version": 3
   },
   "file_extension": ".py",
   "mimetype": "text/x-python",
   "name": "python",
   "nbconvert_exporter": "python",
   "pygments_lexer": "ipython3",
   "version": "3.10.9"
  },
  "orig_nbformat": 4
 },
 "nbformat": 4,
 "nbformat_minor": 2
}
