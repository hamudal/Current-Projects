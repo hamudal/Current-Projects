{
 "cells": [
  {
   "cell_type": "code",
   "execution_count": null,
   "metadata": {},
   "outputs": [],
   "source": [
    "import tweepy\n",
    "import pandas as pd\n",
    "import time\n",
    "import re\n"
   ]
  },
  {
   "cell_type": "code",
   "execution_count": null,
   "metadata": {},
   "outputs": [],
   "source": [
    "# Set up Twitter API credentials\n",
    "consumer_key = 'your_consumer_key'\n",
    "consumer_secret = 'your_consumer_secret'\n",
    "access_token = 'your_access_token'\n",
    "access_token_secret = 'your_access_token_secret'\n"
   ]
  },
  {
   "cell_type": "code",
   "execution_count": null,
   "metadata": {},
   "outputs": [],
   "source": [
    "# Authenticate with the Twitter API\n",
    "auth = tweepy.OAuthHandler(consumer_key, consumer_secret)\n",
    "auth.set_access_token(access_token, access_token_secret)\n",
    "api = tweepy.API(auth)"
   ]
  },
  {
   "cell_type": "code",
   "execution_count": null,
   "metadata": {},
   "outputs": [],
   "source": [
    "def search_tweets(query):\n",
    "    # Create a Cursor object to retrieve tweets using the specified query\n",
    "    cursor = tweepy.Cursor(api.search_tweets, q=query, tweet_mode='extended', lang='en', count=50)\n",
    "\n",
    "    # Iterate through the results and extract relevant information\n",
    "    tweets = []\n",
    "    for tweet in cursor.items():\n",
    "        text = tweet.full_text\n",
    "        created_at = tweet.created_at\n",
    "        user = tweet.user.screen_name\n",
    "        likes = tweet.favorite_count\n",
    "        retweets = tweet.retweet_count\n",
    "        tweets.append({'text': text, 'created_at': created_at, 'user': user, 'likes': likes, 'retweets': retweets})\n",
    "\n",
    "    # Convert the tweets list to a DataFrame\n",
    "    df = pd.DataFrame(tweets)\n",
    "\n",
    "    return df"
   ]
  },
  {
   "cell_type": "code",
   "execution_count": null,
   "metadata": {},
   "outputs": [],
   "source": [
    "# Search for tweets containing the keyword 'elonmusk' and save to a dataframe\n",
    "elon_tweets = search_tweets('elonmusk', 100)\n",
    "\n",
    "# Search for tweets containing the keywords 'elonmusk' and 'tesla' and save to a dataframe\n",
    "tesla_tweets = search_tweets('elonmusk tesla', 100)\n",
    "\n",
    "# Save the dataframes to CSV files\n",
    "elon_tweets.to_csv('elon_tweets.csv', index=False)\n",
    "tesla_tweets.to_csv('tesla_tweets.csv', index=False)"
   ]
  }
 ],
 "metadata": {
  "language_info": {
   "name": "python"
  },
  "orig_nbformat": 4
 },
 "nbformat": 4,
 "nbformat_minor": 2
}
