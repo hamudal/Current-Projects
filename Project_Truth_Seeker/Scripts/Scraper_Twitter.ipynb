{
 "cells": [
  {
   "cell_type": "code",
   "execution_count": null,
   "metadata": {},
   "outputs": [],
   "source": [
    "import requests\n",
    "from bs4 import BeautifulSoup\n",
    "import pandas as pd"
   ]
  },
  {
   "cell_type": "code",
   "execution_count": null,
   "metadata": {},
   "outputs": [],
   "source": [
    "# Define the URL of the website to scrape\n",
    "url = 'https://twitter.com/elonmusk'"
   ]
  },
  {
   "cell_type": "code",
   "execution_count": null,
   "metadata": {},
   "outputs": [],
   "source": [
    "# Send a request to the website and get the HTML response\n",
    "response = requests.get(url)\n",
    "\n",
    "# Parse the HTML response using BeautifulSoup\n",
    "soup = BeautifulSoup(response.text, 'html.parser')"
   ]
  },
  {
   "cell_type": "code",
   "execution_count": null,
   "metadata": {},
   "outputs": [],
   "source": [
    "# Create an empty list to store the scraped tweets\n",
    "tweets = []"
   ]
  },
  {
   "cell_type": "code",
   "execution_count": null,
   "metadata": {},
   "outputs": [],
   "source": [
    "# Loop through each tweet on the page and extract relevant information\n",
    "for tweet in soup.find_all('div', {'class': 'tweet'}):\n",
    "    # Extract the tweet text\n",
    "    tweet_text = tweet.find('div', {'class': 'js-tweet-text-container'}).text.strip()\n",
    "    \n",
    "    # Extract the number of likes and convert it to an integer\n",
    "    tweet_likes = tweet.find('div', {'class': 'ProfileTweet-action--favorite'}).find('span', {'class': 'ProfileTweet-actionCountForPresentation'}).text.strip()\n",
    "    tweet_likes = int(tweet_likes.replace(',', ''))\n",
    "    \n",
    "    # Extract the number of retweets and convert it to an integer\n",
    "    tweet_retweets = tweet.find('div', {'class': 'ProfileTweet-action--retweet'}).find('span', {'class': 'ProfileTweet-actionCountForPresentation'}).text.strip()\n",
    "    tweet_retweets = int(tweet_retweets.replace(',', ''))\n",
    "    \n",
    "    # Extract the date of the tweet\n",
    "    tweet_date = tweet.find('span', {'class': '_timestamp'}).get('data-time')\n",
    "    \n",
    "    # Add the extracted information to the list of tweets\n",
    "    tweets.append({'text': tweet_text, 'likes': tweet_likes, 'retweets': tweet_retweets, 'date': tweet_date})\n",
    "\n",
    "# Create a Pandas dataframe from the scraped tweets\n",
    "df = pd.DataFrame(tweets)"
   ]
  }
 ],
 "metadata": {
  "language_info": {
   "name": "python"
  },
  "orig_nbformat": 4
 },
 "nbformat": 4,
 "nbformat_minor": 2
}
